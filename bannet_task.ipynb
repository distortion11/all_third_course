{
 "cells": [
  {
   "cell_type": "code",
   "execution_count": 34,
   "metadata": {},
   "outputs": [],
   "source": [
    "import pandas as pd\n",
    "import csv\n",
    "import numpy as np\n",
    "from sklearn.cluster import MeanShift"
   ]
  },
  {
   "cell_type": "code",
   "execution_count": 8,
   "metadata": {},
   "outputs": [],
   "source": [
    "with open('checkins.dat') as f:\n",
    "    new_lines = []\n",
    "    for line in f:\n",
    "        New_line = [x.strip(' ') for x in line.split('|')]\n",
    "        if len(New_line)==6 and New_line[3] and New_line[4]:\n",
    "            #проверка на то что координаты есть ,И нет пустых значений в строчках\n",
    "            new_lines.append(New_line)\n"
   ]
  },
  {
   "cell_type": "code",
   "execution_count": 12,
   "metadata": {},
   "outputs": [],
   "source": [
    "with open('checkins.csv', 'w') as outF:\n",
    "    writer = csv.writer(outF)\n",
    "    writer.writerows(new_lines)"
   ]
  },
  {
   "cell_type": "code",
   "execution_count": 17,
   "metadata": {},
   "outputs": [
    {
     "name": "stdout",
     "output_type": "stream",
     "text": [
      "396634\n"
     ]
    },
    {
     "data": {
      "text/html": [
       "<div>\n",
       "<style scoped>\n",
       "    .dataframe tbody tr th:only-of-type {\n",
       "        vertical-align: middle;\n",
       "    }\n",
       "\n",
       "    .dataframe tbody tr th {\n",
       "        vertical-align: top;\n",
       "    }\n",
       "\n",
       "    .dataframe thead th {\n",
       "        text-align: right;\n",
       "    }\n",
       "</style>\n",
       "<table border=\"1\" class=\"dataframe\">\n",
       "  <thead>\n",
       "    <tr style=\"text-align: right;\">\n",
       "      <th></th>\n",
       "      <th>id</th>\n",
       "      <th>user_id</th>\n",
       "      <th>venue_id</th>\n",
       "      <th>latitude</th>\n",
       "      <th>longitude</th>\n",
       "      <th>created_at      \\r\\n</th>\n",
       "    </tr>\n",
       "  </thead>\n",
       "  <tbody>\n",
       "    <tr>\n",
       "      <th>0</th>\n",
       "      <td>984222</td>\n",
       "      <td>15824</td>\n",
       "      <td>5222</td>\n",
       "      <td>38.895112</td>\n",
       "      <td>-77.036366</td>\n",
       "      <td>2012-04-21 17:43:47\\r\\n</td>\n",
       "    </tr>\n",
       "    <tr>\n",
       "      <th>1</th>\n",
       "      <td>984234</td>\n",
       "      <td>44652</td>\n",
       "      <td>5222</td>\n",
       "      <td>33.800745</td>\n",
       "      <td>-84.410520</td>\n",
       "      <td>2012-04-21 17:43:43\\r\\n</td>\n",
       "    </tr>\n",
       "    <tr>\n",
       "      <th>2</th>\n",
       "      <td>984291</td>\n",
       "      <td>105054</td>\n",
       "      <td>5222</td>\n",
       "      <td>45.523452</td>\n",
       "      <td>-122.676207</td>\n",
       "      <td>2012-04-21 17:39:22\\r\\n</td>\n",
       "    </tr>\n",
       "    <tr>\n",
       "      <th>3</th>\n",
       "      <td>984318</td>\n",
       "      <td>2146539</td>\n",
       "      <td>5222</td>\n",
       "      <td>40.764462</td>\n",
       "      <td>-111.904565</td>\n",
       "      <td>2012-04-21 17:35:46\\r\\n</td>\n",
       "    </tr>\n",
       "    <tr>\n",
       "      <th>4</th>\n",
       "      <td>984232</td>\n",
       "      <td>93870</td>\n",
       "      <td>380645</td>\n",
       "      <td>33.448377</td>\n",
       "      <td>-112.074037</td>\n",
       "      <td>2012-04-21 17:38:18\\r\\n</td>\n",
       "    </tr>\n",
       "  </tbody>\n",
       "</table>\n",
       "</div>"
      ],
      "text/plain": [
       "       id  user_id  venue_id   latitude   longitude     created_at      \\r\\n\n",
       "0  984222    15824      5222  38.895112  -77.036366  2012-04-21 17:43:47\\r\\n\n",
       "1  984234    44652      5222  33.800745  -84.410520  2012-04-21 17:43:43\\r\\n\n",
       "2  984291   105054      5222  45.523452 -122.676207  2012-04-21 17:39:22\\r\\n\n",
       "3  984318  2146539      5222  40.764462 -111.904565  2012-04-21 17:35:46\\r\\n\n",
       "4  984232    93870    380645  33.448377 -112.074037  2012-04-21 17:38:18\\r\\n"
      ]
     },
     "execution_count": 17,
     "metadata": {},
     "output_type": "execute_result"
    }
   ],
   "source": [
    "data = pd.read_csv('checkins.csv')\n",
    "print(len(data))\n",
    "data.head()"
   ]
  },
  {
   "cell_type": "code",
   "execution_count": 18,
   "metadata": {},
   "outputs": [],
   "source": [
    "datacoords = data[['latitude','longitude']].values\n"
   ]
  },
  {
   "cell_type": "code",
   "execution_count": 30,
   "metadata": {},
   "outputs": [
    {
     "name": "stdout",
     "output_type": "stream",
     "text": [
      "[ 33.800745 -84.41052 ]\n"
     ]
    }
   ],
   "source": [
    "data100 = datacoords[1:100000]\n",
    "print(data100[0])"
   ]
  },
  {
   "cell_type": "code",
   "execution_count": 29,
   "metadata": {},
   "outputs": [
    {
     "name": "stdout",
     "output_type": "stream",
     "text": [
      "Wall time: 3min 58s\n"
     ]
    }
   ],
   "source": [
    "%%time\n",
    "clustering = MeanShift(bandwidth=0.1,n_jobs = 4)\n",
    "cluster = clustering.fit(data100)"
   ]
  },
  {
   "cell_type": "code",
   "execution_count": 67,
   "metadata": {},
   "outputs": [
    {
     "ename": "IndexError",
     "evalue": "index 3236 is out of bounds for axis 0 with size 3231",
     "output_type": "error",
     "traceback": [
      "\u001b[1;31m---------------------------------------------------------------------------\u001b[0m",
      "\u001b[1;31mIndexError\u001b[0m                                Traceback (most recent call last)",
      "\u001b[1;32m<ipython-input-67-c2037d316b60>\u001b[0m in \u001b[0;36m<module>\u001b[1;34m\u001b[0m\n\u001b[0;32m      1\u001b[0m \u001b[1;32mfor\u001b[0m \u001b[0mi\u001b[0m \u001b[1;32min\u001b[0m \u001b[0mrange\u001b[0m\u001b[1;33m(\u001b[0m\u001b[0mlen\u001b[0m\u001b[1;33m(\u001b[0m\u001b[0mcluster\u001b[0m\u001b[1;33m.\u001b[0m\u001b[0mlabels_\u001b[0m\u001b[1;33m)\u001b[0m\u001b[1;33m)\u001b[0m\u001b[1;33m:\u001b[0m\u001b[1;33m\u001b[0m\u001b[1;33m\u001b[0m\u001b[0m\n\u001b[0;32m      2\u001b[0m     \u001b[1;32mif\u001b[0m \u001b[0mcluster\u001b[0m\u001b[1;33m.\u001b[0m\u001b[0mlabels_\u001b[0m\u001b[1;33m[\u001b[0m\u001b[0mi\u001b[0m\u001b[1;33m]\u001b[0m\u001b[1;33m>\u001b[0m\u001b[1;36m15\u001b[0m\u001b[1;33m:\u001b[0m\u001b[1;33m\u001b[0m\u001b[1;33m\u001b[0m\u001b[0m\n\u001b[1;32m----> 3\u001b[1;33m         \u001b[0mcent\u001b[0m\u001b[1;33m.\u001b[0m\u001b[0mappend\u001b[0m\u001b[1;33m(\u001b[0m\u001b[0mcluster\u001b[0m\u001b[1;33m.\u001b[0m\u001b[0mcluster_centers_\u001b[0m\u001b[1;33m[\u001b[0m\u001b[0mi\u001b[0m\u001b[1;33m]\u001b[0m\u001b[1;33m)\u001b[0m\u001b[1;33m\u001b[0m\u001b[1;33m\u001b[0m\u001b[0m\n\u001b[0m",
      "\u001b[1;31mIndexError\u001b[0m: index 3236 is out of bounds for axis 0 with size 3231"
     ]
    }
   ],
   "source": [
    "cent = []\n",
    "for elem in count_of_each_centr\n",
    "        cent.append(cluster.cluster_centers_[i])"
   ]
  },
  {
   "cell_type": "code",
   "execution_count": 101,
   "metadata": {},
   "outputs": [],
   "source": [
    "num_cluster  = len(cluster.cluster_centers_)\n",
    "count_of_each_centr = [0 for i in range(max(cluster.labels_)+1)]\n",
    "\n",
    "\n",
    "for i in range(len(cluster.labels_)):\n",
    "    count_of_each_centr[cluster.labels_[i]] += 1\n",
    "  "
   ]
  },
  {
   "cell_type": "code",
   "execution_count": 102,
   "metadata": {},
   "outputs": [
    {
     "name": "stdout",
     "output_type": "stream",
     "text": [
      "[4692, 3994, 3363, 3526, 2408, 2297, 1601, 1526, 1378, 1298, 1081, 1006, 1007, 714, 868, 870, 645, 808, 807, 612, 722, 754, 747, 539, 656, 580, 577, 679, 564, 594, 907, 449, 502, 452, 104, 431, 410, 388, 400, 369, 367, 384, 347, 345, 342, 314, 273, 314, 316]\n"
     ]
    }
   ],
   "source": []
  },
  {
   "cell_type": "code",
   "execution_count": 116,
   "metadata": {},
   "outputs": [],
   "source": [
    "cen = []\n",
    "for i in range(len(count_of_each_centr)):\n",
    "    if count_of_each_centr[i] > 15:\n",
    "        cen.append(cluster.cluster_centers_[i])"
   ]
  },
  {
   "cell_type": "code",
   "execution_count": 131,
   "metadata": {},
   "outputs": [],
   "source": [
    "\n",
    "coor_office = [[33.751277, -118.188740],[25.867736, -80.324116],[51.503016, -0.075479],[52.378894, 4.885084],[39.366487, 117.036146],[-33.868457, 151.205134]]\n"
   ]
  },
  {
   "cell_type": "code",
   "execution_count": 149,
   "metadata": {},
   "outputs": [
    {
     "name": "stdout",
     "output_type": "stream",
     "text": [
      "44.74257091784804\n",
      "20 самых близких точек к 1-му офису\n",
      "[  33.80987796 -118.14892381]\n",
      "[  33.88832534 -118.04892817]\n",
      "[  33.87298601 -118.36209115]\n",
      "[  33.97257482 -118.16837067]\n",
      "[  33.98393587 -118.00740497]\n",
      "[  33.81730643 -117.89124917]\n",
      "[  34.06039755 -118.24870903]\n",
      "[  33.67430266 -117.85878927]\n",
      "[  34.03548695 -118.43899772]\n",
      "[  34.13146015 -118.11801181]\n",
      "[  34.09129753 -117.98038945]\n",
      "[  34.12740222 -118.35188373]\n",
      "[  34.16021038 -118.22361657]\n",
      "[  33.65089599 -117.75207397]\n",
      "[  34.07507883 -117.81647189]\n",
      "[  34.19818207 -118.54927681]\n",
      "[  34.06188557 -117.67178458]\n",
      "[  33.45162379 -117.64702445]\n",
      "[  33.88308404 -117.56395783]\n",
      "[ 38.9985426  -76.81361867]\n",
      "наименьшее растояние 0.071\n",
      "самая близкая точка [  33.80987796 -118.14892381]\n",
      "16.14371999090071\n",
      "20 самых близких точек к 2-му офису\n",
      "[ 35.8456213 -86.39027  ]\n",
      "[ 25.78581242 -80.21793804]\n",
      "[ 25.70534972 -80.28342874]\n",
      "[ 26.01009825 -80.19999059]\n",
      "[ 26.13884379 -80.33434684]\n",
      "[ 26.12086266 -80.15890668]\n",
      "[ 26.20058464 -80.25071613]\n",
      "[ 26.35257117 -80.08527872]\n",
      "[ 26.48884247 -80.07008187]\n",
      "[ 26.70835773 -80.05192203]\n",
      "[  34.8697395 -111.7609896]\n",
      "[  34.2659   -119.258366]\n",
      "[ 27.6648274 -81.5157535]\n",
      "[ 28.06548717 -80.59930491]\n",
      "[  34.0050079 -118.8100893]\n",
      "[  33.8333716 -111.9507042]\n",
      "[ 28.2919557 -81.407571 ]\n",
      "[ 28.03826827 -81.94780579]\n",
      "[ 28.39950741 -81.53741105]\n",
      "[ 27.9161039  -82.24841785]\n",
      "наименьшее растояние 0.023\n",
      "самая близкая точка [ 35.8456213 -86.39027  ]\n",
      "74.69906581687445\n",
      "20 самых близких точек к 3-му офису\n",
      "[51.50299126 -0.12553729]\n",
      "[48.85776555  2.34579837]\n",
      "[ 3.58488774 98.67732915]\n",
      "[ 39.67007331 -84.12874245]\n",
      "[  37.9577016 -121.2907796]\n",
      "[  47.60579682 -122.66980362]\n",
      "[ 37.97458633 -87.55669496]\n",
      "[52.5234051 13.4113999]\n",
      "[ 40.83499799 -74.73254173]\n",
      "[ 43.19009768 -70.86735822]\n",
      "[55.74834952 37.62385042]\n",
      "[ 39.34609773 -76.49117086]\n",
      "[ 27.8005828 -97.396381 ]\n",
      "[-0.3012262 36.5229641]\n",
      "[ 43.66161485 -70.25431398]\n",
      "[ 42.89325042 -87.86338143]\n",
      "[ 18.43395051 -66.11070033]\n",
      "[ 41.25584533 -75.88747089]\n",
      "[ 28.66415219 -81.1904694 ]\n",
      "[ 42.52260116 -70.90788364]\n",
      "наименьшее растояние 0.05\n",
      "самая близкая точка [51.50299126 -0.12553729]\n",
      "79.73425537531013\n",
      "20 самых близких точек к 4-му офису\n",
      "[ 3.58488774 98.67732915]\n",
      "[48.85776555  2.34579837]\n",
      "[  37.9577016 -121.2907796]\n",
      "[51.50299126 -0.12553729]\n",
      "[ 37.97458633 -87.55669496]\n",
      "[52.5234051 13.4113999]\n",
      "[ 39.67007331 -84.12874245]\n",
      "[  47.60579682 -122.66980362]\n",
      "[ 40.83499799 -74.73254173]\n",
      "[ 43.19009768 -70.86735822]\n",
      "[55.74834952 37.62385042]\n",
      "[ 39.34609773 -76.49117086]\n",
      "[ 27.8005828 -97.396381 ]\n",
      "[-0.3012262 36.5229641]\n",
      "[ 43.66161485 -70.25431398]\n",
      "[ 42.89325042 -87.86338143]\n",
      "[ 18.43395051 -66.11070033]\n",
      "[ 41.25584533 -75.88747089]\n",
      "[ 28.66415219 -81.1904694 ]\n",
      "[ 42.52260116 -70.90788364]\n",
      "наименьшее растояние 0.009\n",
      "самая близкая точка [ 3.58488774 98.67732915]\n",
      "191.0327602958311\n",
      "20 самых близких точек к 5-му офису\n",
      "[ 37.65944994 -77.51334097]\n",
      "[ 37.566535  126.9779692]\n",
      "[  33.70758057 -116.23712694]\n",
      "[ 35.68000562 139.70605629]\n",
      "[ 26.64406871 -81.87331197]\n",
      "[ 13.78679834 100.61551539]\n",
      "[ 13.73101117 100.51336205]\n",
      "[  3.13427592 101.67555987]\n",
      "[  20.67628229 -103.34731531]\n",
      "[  1.3508366  103.82022041]\n",
      "[ -0.789275 113.921327]\n",
      "[  38.45654584 -122.41896018]\n",
      "[ -6.21276666 106.84465981]\n",
      "[  34.5400242 -112.4685025]\n",
      "[ -6.31469812 106.81315176]\n",
      "[ -7.26771537 112.74167327]\n",
      "[ -6.9131021  107.60774276]\n",
      "[ 32.93987711 -96.59048371]\n",
      "[25.2644444 55.3116667]\n",
      "[ 27.8005828 -97.396381 ]\n",
      "наименьшее растояние 9.268\n",
      "самая близкая точка [ 37.65944994 -77.51334097]\n",
      "237.22725875825117\n",
      "20 самых близких точек к 6-му офису\n",
      "[  33.5778631 -101.8551665]\n",
      "[ 39.26021588 -84.29711198]\n",
      "[25.2644444 55.3116667]\n",
      "[ -7.26771537 112.74167327]\n",
      "[ 32.93987711 -96.59048371]\n",
      "[ -0.789275 113.921327]\n",
      "[ -6.9131021  107.60774276]\n",
      "[  38.45654584 -122.41896018]\n",
      "[ -6.31469812 106.81315176]\n",
      "[ -6.21276666 106.84465981]\n",
      "[  34.5400242 -112.4685025]\n",
      "[ 26.64406871 -81.87331197]\n",
      "[  1.3508366  103.82022041]\n",
      "[  3.13427592 101.67555987]\n",
      "[  20.67628229 -103.34731531]\n",
      "[  33.70758057 -116.23712694]\n",
      "[ 13.78679834 100.61551539]\n",
      "[ 13.73101117 100.51336205]\n",
      "[ 35.68000562 139.70605629]\n",
      "[ 37.65944994 -77.51334097]\n",
      "наименьшее растояние 0.008\n",
      "самая близкая точка [  33.5778631 -101.8551665]\n"
     ]
    }
   ],
   "source": [
    "j=1\n",
    "for coords in coor_office:\n",
    "    dist = []\n",
    "    \n",
    "    for elem in cen:\n",
    "        dist.append(np.linalg.norm(coords-elem,ord = 2))\n",
    "    print(dist[0])\n",
    "    dist0 = sorted(dist)\n",
    "    \n",
    "    print('20 самых близких точек к {0}-му офису'.format(j))\n",
    "    j +=1\n",
    "    for i in range(20):\n",
    "        print(cluster.cluster_centers_[dist.index(dist0[i])])\n",
    "    dist0 = [round(i,3) for i in dist0]\n",
    "    \n",
    "    print('наименьшее растояние',dist0[0])\n",
    "    print('самая близкая точка',cluster.cluster_centers_[np.argmin(dist)])"
   ]
  },
  {
   "cell_type": "markdown",
   "metadata": {},
   "source": [
    "### Наименьшее растояние получилось для 6 центра с координатами -33.868457, 151.205134"
   ]
  },
  {
   "cell_type": "code",
   "execution_count": 120,
   "metadata": {},
   "outputs": [],
   "source": []
  },
  {
   "cell_type": "code",
   "execution_count": 121,
   "metadata": {},
   "outputs": [],
   "source": []
  },
  {
   "cell_type": "code",
   "execution_count": null,
   "metadata": {},
   "outputs": [],
   "source": []
  },
  {
   "cell_type": "code",
   "execution_count": null,
   "metadata": {},
   "outputs": [],
   "source": []
  }
 ],
 "metadata": {
  "kernelspec": {
   "display_name": "Python 3",
   "language": "python",
   "name": "python3"
  },
  "language_info": {
   "codemirror_mode": {
    "name": "ipython",
    "version": 3
   },
   "file_extension": ".py",
   "mimetype": "text/x-python",
   "name": "python",
   "nbconvert_exporter": "python",
   "pygments_lexer": "ipython3",
   "version": "3.8.2"
  }
 },
 "nbformat": 4,
 "nbformat_minor": 4
}
